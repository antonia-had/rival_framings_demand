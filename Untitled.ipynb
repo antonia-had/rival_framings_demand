{
 "cells": [
  {
   "cell_type": "code",
   "execution_count": 1,
   "id": "272e693b",
   "metadata": {},
   "outputs": [],
   "source": [
    "import os\n",
    "import glob\n",
    "import numpy as np\n",
    "import duckdb\n",
    "import pandas as pd\n",
    "from matplotlib import pyplot as plt\n",
    "import itertools"
   ]
  },
  {
   "cell_type": "code",
   "execution_count": 2,
   "id": "bb3103f9",
   "metadata": {},
   "outputs": [],
   "source": [
    "# directory the data was downloaded to locally\n",
    "data_dir = './xdd_parquet'"
   ]
  },
  {
   "cell_type": "code",
   "execution_count": 6,
   "id": "b3d976f9",
   "metadata": {},
   "outputs": [],
   "source": [
    "# read in original synthetic flows\n",
    "generated_flows_wider = np.load('LHsamples_wider_100_AnnQonly_flows.npy')\n",
    "# read in historic flows\n",
    "historic_flows = np.load('historic_flows.npy')"
   ]
  },
  {
   "cell_type": "markdown",
   "id": "84294159",
   "metadata": {},
   "source": [
    "Identify reference flow conditions"
   ]
  },
  {
   "cell_type": "code",
   "execution_count": 23,
   "id": "779be9b0",
   "metadata": {},
   "outputs": [],
   "source": [
    "annual_historic_flows = np.sum(historic_flows, axis=1)\n",
    "# find reference bad flow in history\n",
    "lowest_flow_historical_year = np.argmin(annual_historic_flows)\n",
    "reference_bad_flow = annual_historic_flows[lowest_flow_historical_year]\n",
    "# find reference median flow in history\n",
    "reference_median_year = np.argwhere(annual_historic_flows == np.percentile(annual_historic_flows, 50, interpolation='nearest'))\n",
    "reference_median_flow = annual_historic_flows[reference_median_year][0][0]"
   ]
  },
  {
   "cell_type": "markdown",
   "id": "2b567272",
   "metadata": {},
   "source": [
    "Identify the years in each realization where similar flows happen\n",
    "\n",
    "*We'are assuming that all generated flows in the wider sample exhibit both these flow magnitudes at least once*"
   ]
  },
  {
   "cell_type": "code",
   "execution_count": 26,
   "id": "58f363c5",
   "metadata": {},
   "outputs": [],
   "source": [
    "annual_flows = np.sum(generated_flows_wider, axis=2)\n",
    "low_flow_years = []\n",
    "median_flow_years = []\n",
    "for j in range(len(annual_flows[:,0])):\n",
    "    low_flow_occurence = [annual_flows[j,:][i]<=reference_bad_flow for i in range(len(annual_flows[j,:]))]\n",
    "    low_flow_years.append(low_flow_occurence)\n",
    "    median_flow_occurence = [annual_flows[j,:][i]>=reference_median_flow for i in range(len(annual_flows[j,:]))]\n",
    "    median_flow_years.append(median_flow_occurence)"
   ]
  },
  {
   "cell_type": "code",
   "execution_count": null,
   "id": "264c7911",
   "metadata": {},
   "outputs": [],
   "source": []
  }
 ],
 "metadata": {
  "kernelspec": {
   "display_name": "Python 3",
   "language": "python",
   "name": "python3"
  },
  "language_info": {
   "codemirror_mode": {
    "name": "ipython",
    "version": 3
   },
   "file_extension": ".py",
   "mimetype": "text/x-python",
   "name": "python",
   "nbconvert_exporter": "python",
   "pygments_lexer": "ipython3",
   "version": "3.6.8"
  }
 },
 "nbformat": 4,
 "nbformat_minor": 5
}
